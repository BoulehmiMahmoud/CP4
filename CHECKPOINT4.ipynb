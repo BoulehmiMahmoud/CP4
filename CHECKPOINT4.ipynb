{
 "cells": [
  {
   "cell_type": "code",
   "execution_count": 19,
   "id": "e7f1ed68",
   "metadata": {
    "scrolled": true
   },
   "outputs": [
    {
     "name": "stdout",
     "output_type": "stream",
     "text": [
      "length of the list: 3\n",
      "number: 9\n",
      "number: 4\n",
      "number: 6\n",
      "9\n"
     ]
    }
   ],
   "source": [
    "#1\n",
    "x=[]\n",
    "n=int(input(\"length of the list: \"))\n",
    "for i in range(0,n):\n",
    "    a=int(input(\"number: \"))\n",
    "    x.append(a)\n",
    "x.sort()\n",
    "print(x[-1])"
   ]
  },
  {
   "cell_type": "code",
   "execution_count": 7,
   "id": "402d9f93",
   "metadata": {},
   "outputs": [
    {
     "name": "stdout",
     "output_type": "stream",
     "text": [
      "enter a: 5\n",
      "enter b: 4\n",
      "9 1\n",
      "None\n"
     ]
    }
   ],
   "source": [
    "#2\n",
    "def c(a,b):\n",
    "    print(a+b , a-b)\n",
    "a=int(input(\"enter a: \"))\n",
    "b=int(input(\"enter b: \"))\n",
    "print(c(a,b))"
   ]
  },
  {
   "cell_type": "code",
   "execution_count": 1,
   "id": "ab7b9fb9",
   "metadata": {},
   "outputs": [
    {
     "name": "stdout",
     "output_type": "stream",
     "text": [
      "length list: 5\n",
      "number 1\n",
      "number 2\n",
      "number 3\n",
      "number 4\n",
      "number 5\n",
      "6\n",
      "15\n"
     ]
    }
   ],
   "source": [
    "#3\n",
    "def sum(liste):\n",
    "    s=0\n",
    "    for i in liste:\n",
    "        s=s+i\n",
    "    print(s)\n",
    "def mult(liste):\n",
    "    s=1\n",
    "    for i in liste:\n",
    "        s=s*i\n",
    "    print(s)\n",
    "a=[0]\n",
    "n=int(input(\"length list: \"))\n",
    "for y in range(0,n):\n",
    "    b=int(input(\"number \"))\n",
    "    a.append(b)\n",
    "sum(a[::2])\n",
    "mult(a[1::2])"
   ]
  },
  {
   "cell_type": "code",
   "execution_count": 12,
   "id": "8d9211b3",
   "metadata": {},
   "outputs": [
    {
     "name": "stdout",
     "output_type": "stream",
     "text": [
      "['black', 'green', 'red', 'white', 'yellow']\n",
      "black-green-red-white-yellow\n"
     ]
    }
   ],
   "source": [
    "#4\n",
    "a=\"green-red-yellow-black-white\"\n",
    "\n",
    "b=a.split(\"-\"); b.sort(); x=\"-\".join(b)\n",
    "\n",
    "print(x)"
   ]
  },
  {
   "cell_type": "code",
   "execution_count": 16,
   "id": "9a0f3752",
   "metadata": {},
   "outputs": [
    {
     "name": "stdout",
     "output_type": "stream",
     "text": [
      "Provide D4\n",
      "[4]\n"
     ]
    }
   ],
   "source": [
    "#5\n",
    "import math\n",
    "numbers=input(\"Provide D\")\n",
    "numbers=numbers.split(\"-\")\n",
    "result_list=[]\n",
    "C=50\n",
    "H=30\n",
    "def calculate(x):\n",
    "    Q=round(math.sqrt(2*C*int(x)/H))\n",
    "    return Q\n",
    "for i in numbers:\n",
    "    Q=calculate(i)\n",
    "    result_list.append(Q)\n",
    "print(result_list)"
   ]
  },
  {
   "cell_type": "code",
   "execution_count": null,
   "id": "67ec724d",
   "metadata": {},
   "outputs": [],
   "source": []
  }
 ],
 "metadata": {
  "kernelspec": {
   "display_name": "Python 3",
   "language": "python",
   "name": "python3"
  },
  "language_info": {
   "codemirror_mode": {
    "name": "ipython",
    "version": 3
   },
   "file_extension": ".py",
   "mimetype": "text/x-python",
   "name": "python",
   "nbconvert_exporter": "python",
   "pygments_lexer": "ipython3",
   "version": "3.8.8"
  }
 },
 "nbformat": 4,
 "nbformat_minor": 5
}
